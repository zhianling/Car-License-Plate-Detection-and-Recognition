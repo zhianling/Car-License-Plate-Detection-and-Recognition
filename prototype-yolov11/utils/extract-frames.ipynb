﻿{
 "cells": [
  {
   "metadata": {
    "ExecuteTime": {
     "end_time": "2025-03-19T10:27:36.646928Z",
     "start_time": "2025-03-19T10:27:36.633410Z"
    }
   },
   "cell_type": "code",
   "source": [
    "import cv2\n",
    "import os\n",
    "import threading\n",
    "import concurrent.futures"
   ],
   "id": "89df90565ae8dc52",
   "outputs": [],
   "execution_count": 5
  },
  {
   "metadata": {
    "ExecuteTime": {
     "end_time": "2025-03-19T10:27:36.662435Z",
     "start_time": "2025-03-19T10:27:36.650929Z"
    }
   },
   "cell_type": "code",
   "source": [
    "def extract_frames_from_video(video_file_path, convert_path, start_frame_count):\n",
    "    \"\"\"\n",
    "    Extracts frames from a single video file.\n",
    "\n",
    "    Args:\n",
    "        video_file_path (str): The path to the video file.\n",
    "        convert_path (str): The path to save the extracted frames.\n",
    "        start_frame_count (int): The starting frame count for this video.\n",
    "\n",
    "    Returns:\n",
    "        int: The number of frames extracted from this video.\n",
    "    \"\"\"\n",
    "    print(f\"Processing video: {video_file_path}\")\n",
    "    cap = cv2.VideoCapture(video_file_path)\n",
    "\n",
    "    if not cap.isOpened():\n",
    "        print(f\"Error: Could not open video file: {video_file_path}\")\n",
    "        return 0\n",
    "\n",
    "    frame_count = start_frame_count\n",
    "    extracted_count = 0\n",
    "    while True:\n",
    "        ret, frame = cap.read()\n",
    "        if not ret:\n",
    "            break  # End of video\n",
    "\n",
    "        frame_file_name = f\"frame_{frame_count:06d}.png\"\n",
    "        frame_file_path = os.path.join(convert_path, frame_file_name)\n",
    "\n",
    "        cv2.imwrite(frame_file_path, frame)\n",
    "        frame_count += 1\n",
    "        extracted_count += 1\n",
    "\n",
    "    cap.release()\n",
    "    print(f\"Finished processing video: {video_file_path}, extracted {extracted_count} frames\")\n",
    "    return extracted_count\n"
   ],
   "id": "f08c0c6b55470623",
   "outputs": [],
   "execution_count": 6
  },
  {
   "metadata": {
    "ExecuteTime": {
     "end_time": "2025-03-19T10:27:36.692608Z",
     "start_time": "2025-03-19T10:27:36.678433Z"
    }
   },
   "cell_type": "code",
   "source": [
    "def extract_frames(base_video_path, base_image_path, data_type):\n",
    "    \"\"\"\n",
    "    Extracts frames from videos using multithreading.\n",
    "    \"\"\"\n",
    "    if data_type.lower() == \"train\":\n",
    "        video_path = os.path.join(base_video_path, \"train/\")\n",
    "        convert_path = os.path.join(base_image_path, \"train/\")\n",
    "    elif data_type.lower() == \"test\":\n",
    "        video_path = os.path.join(base_video_path, \"test/\")\n",
    "        convert_path = os.path.join(base_image_path, \"test/\")\n",
    "    elif data_type.lower() == \"val\":\n",
    "        video_path = os.path.join(base_video_path, \"val/\")\n",
    "        convert_path = os.path.join(base_image_path, \"val/\")\n",
    "    else:\n",
    "        raise ValueError(\"Invalid data_type. Must be 'train', 'test', or 'val'.\")\n",
    "\n",
    "    os.makedirs(convert_path, exist_ok=True)\n",
    "\n",
    "    video_files = sorted([\n",
    "        os.path.join(video_path, f)\n",
    "        for f in os.listdir(video_path)\n",
    "        if f.endswith(('.mp4', '.avi', '.mov'))\n",
    "    ])\n",
    "\n",
    "    # Determine the number of worker threads\n",
    "    num_workers = os.cpu_count()  # Use all available CPU cores\n",
    "    if num_workers is None:\n",
    "        num_workers = 1 # Use 1 if cannot determine number of CPUs\n",
    "    print(f\"Using {num_workers} worker threads.\")\n",
    "\n",
    "\n",
    "    total_frames = 0\n",
    "    frame_count = 0\n",
    "    with concurrent.futures.ThreadPoolExecutor(max_workers=num_workers) as executor:\n",
    "        futures = []\n",
    "        for video_file in video_files:\n",
    "            future = executor.submit(extract_frames_from_video, video_file, convert_path, frame_count)\n",
    "            futures.append(future)\n",
    "            frame_count += sum([f.result() for f in futures]) #Update the frame_count in time.\n",
    "            futures = [] # Clean the futures, so we can update frame_count correctly.\n",
    "\n",
    "        # Wait for all tasks to complete and get the results\n",
    "        for future in concurrent.futures.as_completed(futures):\n",
    "            try:\n",
    "                total_frames += future.result()\n",
    "            except Exception as exc:\n",
    "                print(f\"Generated an exception: {exc}\")\n",
    "\n",
    "\n",
    "    print(f\"Finished extracting frames for {data_type}. Total frames: {total_frames}\")\n",
    "    return total_frames"
   ],
   "id": "24fd13ad328a686c",
   "outputs": [],
   "execution_count": 7
  },
  {
   "metadata": {
    "jupyter": {
     "is_executing": true
    },
    "ExecuteTime": {
     "start_time": "2025-03-19T10:27:36.708460Z"
    }
   },
   "cell_type": "code",
   "source": [
    "base_video_path = \"../datasets/yolo_obb/videos/\"\n",
    "base_image_path = \"../datasets/yolo_obb/images/\"\n",
    "\n",
    "# Check if base directories exist, create them if necessary\n",
    "os.makedirs(base_video_path, exist_ok=True)\n",
    "os.makedirs(base_image_path, exist_ok=True)\n",
    "\n",
    "# Extract frames for train, test and validation sets\n",
    "total_train_frames = extract_frames(base_video_path, base_image_path, \"train\")\n",
    "total_test_frames = extract_frames(base_video_path, base_image_path, \"test\")\n",
    "total_val_frames = extract_frames(base_video_path, base_image_path, \"val\")\n",
    "print(f\"Total extracted frames:\\n images: {total_train_frames}\\n images: {total_test_frames}\\n images:{total_val_frames}\")"
   ],
   "id": "4754ffdfdebb3b85",
   "outputs": [
    {
     "name": "stdout",
     "output_type": "stream",
     "text": [
      "Using 24 worker threads.\n",
      "Processing video: ../datasets/yolo_obb/videos/train/video_train_001.mp4\n"
     ]
    }
   ],
   "execution_count": null
  }
 ],
 "metadata": {
  "kernelspec": {
   "display_name": "Python 3",
   "language": "python",
   "name": "python3"
  },
  "language_info": {
   "codemirror_mode": {
    "name": "ipython",
    "version": 2
   },
   "file_extension": ".py",
   "mimetype": "text/x-python",
   "name": "python",
   "nbconvert_exporter": "python",
   "pygments_lexer": "ipython2",
   "version": "2.7.6"
  }
 },
 "nbformat": 4,
 "nbformat_minor": 5
}
