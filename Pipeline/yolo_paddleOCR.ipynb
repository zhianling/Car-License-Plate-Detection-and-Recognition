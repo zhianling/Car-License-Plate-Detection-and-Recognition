﻿{
 "cells": [
  {
   "metadata": {},
   "cell_type": "markdown",
   "source": "# YOLOv8 + PaddleOCR (Inference)",
   "id": "e3a3e424c211860f"
  },
  {
   "metadata": {},
   "cell_type": "markdown",
   "source": "## Import Dependencies",
   "id": "4e6dedf683a83cc9"
  },
  {
   "cell_type": "code",
   "id": "initial_id",
   "metadata": {
    "collapsed": true,
    "ExecuteTime": {
     "end_time": "2025-05-11T12:37:24.032738Z",
     "start_time": "2025-05-11T12:37:24.013061Z"
    }
   },
   "source": [
    "from ultralytics import YOLO\n",
    "import torch\n",
    "import paddle\n",
    "from paddleocr import PaddleOCR\n",
    "import cv2\n",
    "import warnings\n",
    "warnings.filterwarnings(\"ignore\")"
   ],
   "outputs": [],
   "execution_count": 7
  },
  {
   "metadata": {},
   "cell_type": "markdown",
   "source": "## Configuration",
   "id": "16f459ec0bad10cd"
  },
  {
   "metadata": {
    "ExecuteTime": {
     "end_time": "2025-05-11T12:37:24.080738Z",
     "start_time": "2025-05-11T12:37:24.065744Z"
    }
   },
   "cell_type": "code",
   "source": [
    "# --- Configuration for Detection ---\n",
    "TARGET_CLASS_NAME = \"license_plate\" # The string name of the class we want to detect with YOLO\n",
    "device = torch.device('cuda') if torch.cuda.is_available() else torch.device('cpu')\n",
    "YOLO_CONFIDENCE_THRESHOLD = 0.30 # Adjust as needed for YOLOv8\n",
    "\n",
    "BOX_COLOR_YOLO = (255, 0, 0)       # Blue for YOLO car plates\n",
    "TEXT_COLOR_YOLO = (255, 255, 255)  # White for YOLO label\n",
    "TEXT_BG_COLOR_YOLO = (0, 0, 0)     # Black for YOLO label background\n",
    "\n",
    "OCR_TEXT_COLOR_PADDLE = (0, 255, 0)  # Green for PaddleOCR text\n",
    "OCR_TEXT_BG_COLOR_PADDLE = (0, 0, 0) # Black background for PaddleOCR text\n",
    "\n",
    "# --- Get Video Path  ---\n",
    "video_path = \"../data/video/35.mp4\"  # Or your desired video (e.g., data/video/58.mp4)\n",
    "if video_path == '0':\n",
    "    video_source = 0 # Use webcam\n",
    "else:\n",
    "    video_source = video_path"
   ],
   "id": "fa99b6ebb89406f9",
   "outputs": [],
   "execution_count": 8
  },
  {
   "metadata": {},
   "cell_type": "markdown",
   "source": "## Load YOLO",
   "id": "4cce7c645c27ab2e"
  },
  {
   "metadata": {
    "ExecuteTime": {
     "end_time": "2025-05-11T12:37:24.142737Z",
     "start_time": "2025-05-11T12:37:24.097739Z"
    }
   },
   "cell_type": "code",
   "source": [
    "# Load YOLO cell\n",
    "yolo_model_path = \"../models/best_yolov8.pt\"  # Ensure this is your trained YOLOv8 model\n",
    "yolo_model = YOLO(yolo_model_path, task=\"detect\")\n",
    "print(f\"YOLOv8 model loaded from {yolo_model_path}\")"
   ],
   "id": "5cdcc38ff521dd40",
   "outputs": [
    {
     "name": "stdout",
     "output_type": "stream",
     "text": [
      "YOLOv8 model loaded from models/best_yolov8.pt\n"
     ]
    }
   ],
   "execution_count": 9
  },
  {
   "metadata": {},
   "cell_type": "markdown",
   "source": "## Load PaddleOCR",
   "id": "270df15ee0c4559d"
  },
  {
   "metadata": {
    "ExecuteTime": {
     "end_time": "2025-05-11T12:37:24.189445Z",
     "start_time": "2025-05-11T12:37:24.174446Z"
    }
   },
   "cell_type": "code",
   "source": [
    "gpu_available  = paddle.device.is_compiled_with_cuda()\n",
    "print(gpu_available)"
   ],
   "id": "c98b0db0c84e4c48",
   "outputs": [
    {
     "name": "stdout",
     "output_type": "stream",
     "text": [
      "True\n"
     ]
    }
   ],
   "execution_count": 10
  },
  {
   "metadata": {
    "ExecuteTime": {
     "end_time": "2025-05-11T12:37:28.547660Z",
     "start_time": "2025-05-11T12:37:24.222446Z"
    }
   },
   "cell_type": "code",
   "source": [
    "paddleocr = PaddleOCR(\n",
    "    use_angle_cls = True,\n",
    "    lang = 'en',\n",
    "    use_gpu = True\n",
    ")"
   ],
   "id": "7fff971b835a3840",
   "outputs": [
    {
     "name": "stdout",
     "output_type": "stream",
     "text": [
      "[2025/05/11 20:37:24] ppocr DEBUG: Namespace(alpha=1.0, alphacolor=(255, 255, 255), benchmark=False, beta=1.0, binarize=False, cls_batch_num=6, cls_image_shape='3, 48, 192', cls_model_dir='C:\\\\Users\\\\User/.paddleocr/whl\\\\cls\\\\ch_ppocr_mobile_v2.0_cls_infer', cls_thresh=0.9, cpu_threads=10, crop_res_save_dir='./output', det=True, det_algorithm='DB', det_box_type='quad', det_db_box_thresh=0.6, det_db_score_mode='fast', det_db_thresh=0.3, det_db_unclip_ratio=1.5, det_east_cover_thresh=0.1, det_east_nms_thresh=0.2, det_east_score_thresh=0.8, det_limit_side_len=960, det_limit_type='max', det_model_dir='C:\\\\Users\\\\User/.paddleocr/whl\\\\det\\\\en\\\\en_PP-OCRv3_det_infer', det_pse_box_thresh=0.85, det_pse_min_area=16, det_pse_scale=1, det_pse_thresh=0, det_sast_nms_thresh=0.2, det_sast_score_thresh=0.5, draw_img_save_dir='./inference_results', drop_score=0.5, e2e_algorithm='PGNet', e2e_char_dict_path='./ppocr/utils/ic15_dict.txt', e2e_limit_side_len=768, e2e_limit_type='max', e2e_model_dir=None, e2e_pgnet_mode='fast', e2e_pgnet_score_thresh=0.5, e2e_pgnet_valid_set='totaltext', enable_mkldnn=False, formula=False, formula_algorithm='LaTeXOCR', formula_batch_num=1, formula_char_dict_path=None, formula_model_dir=None, fourier_degree=5, gpu_id=0, gpu_mem=500, help='==SUPPRESS==', image_dir=None, image_orientation=False, invert=False, ir_optim=True, kie_algorithm='LayoutXLM', label_list=['0', '180'], lang='en', layout=True, layout_dict_path=None, layout_model_dir=None, layout_nms_threshold=0.5, layout_score_threshold=0.5, max_batch_size=10, max_text_length=25, merge_no_span_structure=True, min_subgraph_size=15, mode='structure', ocr=True, ocr_order_method=None, ocr_version='PP-OCRv4', onnx_providers=False, onnx_sess_options=False, output='./output', page_num=0, precision='fp32', process_id=0, re_model_dir=None, rec=True, rec_algorithm='SVTR_LCNet', rec_batch_num=6, rec_char_dict_path='C:\\\\Users\\\\User\\\\miniconda3\\\\envs\\\\car-plate-ocr\\\\lib\\\\site-packages\\\\paddleocr\\\\ppocr\\\\utils\\\\en_dict.txt', rec_image_inverse=True, rec_image_shape='3, 48, 320', rec_model_dir='C:\\\\Users\\\\User/.paddleocr/whl\\\\rec\\\\en\\\\en_PP-OCRv4_rec_infer', recovery=False, recovery_to_markdown=False, return_word_box=False, save_crop_res=False, save_log_path='./log_output/', savefile=False, scales=[8, 16, 32], ser_dict_path='../train_data/XFUND/class_list_xfun.txt', ser_model_dir=None, show_log=True, sr_batch_num=1, sr_image_shape='3, 32, 128', sr_model_dir=None, structure_version='PP-StructureV2', table=True, table_algorithm='TableAttn', table_char_dict_path=None, table_max_len=488, table_model_dir=None, total_process_num=1, type='ocr', use_angle_cls=True, use_dilation=False, use_gcu=False, use_gpu=True, use_mlu=False, use_mp=False, use_npu=False, use_onnx=False, use_pdf2docx_api=False, use_pdserving=False, use_space_char=True, use_tensorrt=False, use_visual_backbone=True, use_xpu=False, vis_font_path='./doc/fonts/simfang.ttf', warmup=False)\n",
      "[2025/05/11 20:37:24] ppocr WARNING: The first GPU is used for inference by default, GPU ID: 0\n",
      "[2025/05/11 20:37:25] ppocr WARNING: The first GPU is used for inference by default, GPU ID: 0\n",
      "[2025/05/11 20:37:27] ppocr WARNING: The first GPU is used for inference by default, GPU ID: 0\n"
     ]
    }
   ],
   "execution_count": 11
  },
  {
   "metadata": {},
   "cell_type": "markdown",
   "source": "## Draw Predictions (Object Detection & OCR)",
   "id": "404fca98568c1b13"
  },
  {
   "metadata": {
    "ExecuteTime": {
     "end_time": "2025-05-11T12:37:54.969486Z",
     "start_time": "2025-05-11T12:37:28.564661Z"
    }
   },
   "cell_type": "code",
   "source": [
    "# Main Processing and Drawing cell\n",
    "\n",
    "# To store YOLO class names and our target class ID for YOLO\n",
    "yolo_class_names_map = None\n",
    "yolo_target_cls_id_int = None # Integer ID for the 'carplate' class in YOLO model\n",
    "\n",
    "cap = cv2.VideoCapture(video_source)\n",
    "\n",
    "if not cap.isOpened():\n",
    "    print(f\"Error: Could not open video source '{video_source}'.\")\n",
    "elif paddleocr is None:\n",
    "    print(\"Error: PaddleOCR was not initialized. Cannot proceed.\")\n",
    "else:\n",
    "    print(f\"Processing video: {video_source} with YOLOv8 and PaddleOCR\")\n",
    "    window_title = f\"Car Plate YOLOv8 Detection & PaddleOCR\"\n",
    "    cv2.namedWindow(window_title, cv2.WINDOW_NORMAL)\n",
    "\n",
    "    frame_count = 0\n",
    "    while cap.isOpened():\n",
    "        ret, frame_bgr = cap.read()\n",
    "\n",
    "        if not ret:\n",
    "            if isinstance(video_source, str): print(\"End of video file reached.\")\n",
    "            else: print(\"Error reading frame from webcam.\")\n",
    "            break\n",
    "\n",
    "        frame_to_draw = frame_bgr.copy()\n",
    "        frame_count += 1\n",
    "\n",
    "        # --- YOLOv8 Inference ---\n",
    "        # YOLO model takes BGR NumPy array directly\n",
    "        yolo_results = yolo_model(frame_bgr, device=device, verbose=False, conf=YOLO_CONFIDENCE_THRESHOLD)\n",
    "        result = yolo_results[0] # Results for the first (and only) image\n",
    "\n",
    "        # --- Initialize YOLO class names and target ID on the first frame (or if not set) ---\n",
    "        if yolo_class_names_map is None and result.names:\n",
    "            yolo_class_names_map = result.names\n",
    "            print(f\"YOLO Model Classes: {yolo_class_names_map}\")\n",
    "            for cls_id_int_key, name_str_val in yolo_class_names_map.items():\n",
    "                if name_str_val.lower() == TARGET_CLASS_NAME.lower():\n",
    "                    yolo_target_cls_id_int = cls_id_int_key\n",
    "                    break\n",
    "            if yolo_target_cls_id_int is None:\n",
    "                print(f\"Error: YOLO Target class '{TARGET_CLASS_NAME}' not found in YOLO model's classes: {yolo_class_names_map}\")\n",
    "            else:\n",
    "                print(f\"Targeting YOLO class '{TARGET_CLASS_NAME}' with integer ID: {yolo_target_cls_id_int}\")\n",
    "\n",
    "        # --- Process Detections and Perform OCR ---\n",
    "        num_detections_in_frame = 0\n",
    "        if yolo_target_cls_id_int is not None: # Proceed only if target class ID is found\n",
    "            for box in result.boxes:\n",
    "                cls_id_tensor = box.cls\n",
    "                conf_tensor = box.conf\n",
    "                xyxy_tensor = box.xyxy[0]\n",
    "\n",
    "                cls_id_int_current = int(cls_id_tensor.item())\n",
    "                confidence_current = conf_tensor.item()\n",
    "\n",
    "                if cls_id_int_current == yolo_target_cls_id_int: # Check if detected class is our target\n",
    "                    num_detections_in_frame += 1\n",
    "                    xmin, ymin, xmax, ymax = map(int, xyxy_tensor.cpu().numpy())\n",
    "\n",
    "                    xmin = max(0, xmin); ymin = max(0, ymin)\n",
    "                    xmax = min(frame_bgr.shape[1], xmax); ymax = min(frame_bgr.shape[0], ymax)\n",
    "\n",
    "                    # Draw YOLO bounding box\n",
    "                    cv2.rectangle(frame_to_draw, (xmin, ymin), (xmax, ymax), BOX_COLOR_YOLO, 2)\n",
    "                    yolo_label_text = f\"{yolo_class_names_map[cls_id_int_current]}: {confidence_current:.2f}\"\n",
    "\n",
    "                    (text_w_yolo, text_h_yolo), base_yolo = cv2.getTextSize(yolo_label_text, cv2.FONT_HERSHEY_SIMPLEX, 0.6, 1)\n",
    "                    cv2.rectangle(frame_to_draw, (xmin, ymin - text_h_yolo - base_yolo - 2), (xmin + text_w_yolo, ymin - base_yolo + 2), TEXT_BG_COLOR_YOLO, -1)\n",
    "                    cv2.putText(frame_to_draw, yolo_label_text, (xmin, ymin - base_yolo -1),\n",
    "                                cv2.FONT_HERSHEY_SIMPLEX, 0.6, TEXT_COLOR_YOLO, 1, cv2.LINE_AA)\n",
    "\n",
    "                    # --- PaddleOCR: Crop the plate and read text ---\n",
    "                    if xmax > xmin and ymax > ymin:\n",
    "                        plate_roi_bgr = frame_bgr[ymin:ymax, xmin:xmax]\n",
    "                        try:\n",
    "                            # paddleocr_instance is your initialized PaddleOCR object\n",
    "                            ocr_output_list = paddleocr.ocr(plate_roi_bgr, det=False, rec=True, cls=paddleocr.use_angle_cls)\n",
    "\n",
    "                            recognized_text = \"\"\n",
    "                            text_confidence = 0.0\n",
    "\n",
    "                            if ocr_output_list and ocr_output_list[0]: # PaddleOCR returns a list for each image; for single ROI, this list has 1 item.\n",
    "                                detected_lines = ocr_output_list[0] # This item is a list of lines, e.g., [[(text_str, conf_score)], ...]\n",
    "                                if detected_lines: # If any lines were recognized in the ROI\n",
    "                                    # For a plate, we usually expect one line. Concatenate if multiple, or take best.\n",
    "                                    # For simplicity, take the first recognized line's text.\n",
    "                                    # Each line is a tuple: (text_string, confidence_score)\n",
    "                                    line_info = detected_lines[0]\n",
    "                                    recognized_text = line_info[0]\n",
    "                                    text_confidence = line_info[1]\n",
    "\n",
    "                                    # Optional: Clean the recognized text\n",
    "                                    recognized_text = ''.join(filter(str.isalnum, recognized_text)).upper()\n",
    "\n",
    "                            if recognized_text:\n",
    "                                ocr_display_text = f\"{recognized_text} ({text_confidence:.2f})\"\n",
    "                                ocr_text_y_pos = ymax + 20\n",
    "                                if ocr_text_y_pos + 10 > frame_to_draw.shape[0]:\n",
    "                                    ocr_text_y_pos = ymin - 10\n",
    "\n",
    "                                (text_w_ocr, text_h_ocr), base_ocr = cv2.getTextSize(ocr_display_text, cv2.FONT_HERSHEY_SIMPLEX, 0.7, 2)\n",
    "                                cv2.rectangle(frame_to_draw, (xmin, ocr_text_y_pos - text_h_ocr - base_ocr),\n",
    "                                              (xmin + text_w_ocr, ocr_text_y_pos + base_ocr),\n",
    "                                              OCR_TEXT_BG_COLOR_PADDLE, -1)\n",
    "                                cv2.putText(frame_to_draw, ocr_display_text, (xmin, ocr_text_y_pos),\n",
    "                                            cv2.FONT_HERSHEY_SIMPLEX, 0.7, OCR_TEXT_COLOR_PADDLE, 2)\n",
    "                                if frame_count % 10 == 0:\n",
    "                                    print(f\"Frame {frame_count}: YOLO Plate (Conf: {confidence_current:.2f}), PaddleOCR: '{recognized_text}' (Conf: {text_confidence:.2f})\")\n",
    "                        except Exception as e:\n",
    "                            if frame_count % 10 == 0:\n",
    "                                print(f\"Frame {frame_count}: Error during PaddleOCR for a plate ROI: {e}\")\n",
    "\n",
    "        if frame_count % 30 == 0:\n",
    "            print(f\"Frame {frame_count}: Found {num_detections_in_frame} '{TARGET_CLASS_NAME}' instances by YOLOv8.\")\n",
    "\n",
    "        cv2.imshow(window_title, frame_to_draw)\n",
    "        key = cv2.waitKey(1) & 0xFF\n",
    "        if key == ord('q'):\n",
    "            print(\"Exiting...\")\n",
    "            break\n",
    "\n",
    "    if cap.isOpened():\n",
    "        cap.release()\n",
    "    cv2.destroyAllWindows()\n",
    "    print(\"Video processing finished and resources released.\")"
   ],
   "id": "3625bd8102b8c31f",
   "outputs": [
    {
     "name": "stdout",
     "output_type": "stream",
     "text": [
      "Processing video: data/video/35.mp4 with YOLOv8 and PaddleOCR\n",
      "YOLO Model Classes: {0: 'license_plate'}\n",
      "Targeting YOLO class 'license_plate' with integer ID: 0\n",
      "Frame 10: YOLO Plate (Conf: 0.89), PaddleOCR: 'AK3340' (Conf: 0.88)\n",
      "Frame 10: YOLO Plate (Conf: 0.86), PaddleOCR: '389' (Conf: 0.33)\n",
      "Frame 20: YOLO Plate (Conf: 0.89), PaddleOCR: 'RK3340' (Conf: 0.97)\n",
      "Frame 20: YOLO Plate (Conf: 0.87), PaddleOCR: '3E' (Conf: 0.27)\n",
      "Frame 20: YOLO Plate (Conf: 0.76), PaddleOCR: 'OAA71250' (Conf: 0.75)\n",
      "Frame 30: YOLO Plate (Conf: 0.89), PaddleOCR: 'ORK3340' (Conf: 0.89)\n",
      "Frame 30: YOLO Plate (Conf: 0.86), PaddleOCR: '38' (Conf: 0.43)\n",
      "Frame 30: Found 2 'license_plate' instances by YOLOv8.\n",
      "Frame 40: YOLO Plate (Conf: 0.88), PaddleOCR: 'RK3340' (Conf: 0.97)\n",
      "Frame 40: YOLO Plate (Conf: 0.87), PaddleOCR: '35' (Conf: 0.41)\n",
      "Frame 50: YOLO Plate (Conf: 0.87), PaddleOCR: '35' (Conf: 0.27)\n",
      "Frame 50: YOLO Plate (Conf: 0.87), PaddleOCR: 'R3340' (Conf: 0.92)\n",
      "Frame 60: YOLO Plate (Conf: 0.87), PaddleOCR: 'AK3340' (Conf: 0.81)\n",
      "Frame 60: Found 2 'license_plate' instances by YOLOv8.\n",
      "Frame 70: YOLO Plate (Conf: 0.89), PaddleOCR: 'RK3340' (Conf: 0.92)\n",
      "Frame 70: YOLO Plate (Conf: 0.84), PaddleOCR: '19' (Conf: 0.24)\n",
      "Frame 80: YOLO Plate (Conf: 0.88), PaddleOCR: 'R3340' (Conf: 0.91)\n",
      "Frame 90: YOLO Plate (Conf: 0.88), PaddleOCR: 'QRK3340' (Conf: 0.88)\n",
      "Frame 90: YOLO Plate (Conf: 0.84), PaddleOCR: '18' (Conf: 0.27)\n",
      "Frame 90: Found 2 'license_plate' instances by YOLOv8.\n",
      "Frame 100: YOLO Plate (Conf: 0.87), PaddleOCR: 'RX3340' (Conf: 0.87)\n",
      "Frame 100: YOLO Plate (Conf: 0.86), PaddleOCR: '1' (Conf: 0.23)\n",
      "Frame 110: YOLO Plate (Conf: 0.89), PaddleOCR: 'RK3340' (Conf: 0.93)\n",
      "Frame 110: YOLO Plate (Conf: 0.84), PaddleOCR: '3' (Conf: 0.23)\n",
      "Frame 120: YOLO Plate (Conf: 0.86), PaddleOCR: 'FAR' (Conf: 0.34)\n",
      "Frame 120: YOLO Plate (Conf: 0.86), PaddleOCR: 'QRX3340' (Conf: 0.83)\n",
      "Frame 120: Found 2 'license_plate' instances by YOLOv8.\n",
      "Frame 130: YOLO Plate (Conf: 0.88), PaddleOCR: 'A3340' (Conf: 0.94)\n",
      "Frame 140: YOLO Plate (Conf: 0.89), PaddleOCR: 'RA3340' (Conf: 0.77)\n",
      "Frame 150: YOLO Plate (Conf: 0.86), PaddleOCR: 'R334' (Conf: 0.83)\n",
      "Frame 150: Found 2 'license_plate' instances by YOLOv8.\n",
      "Frame 160: YOLO Plate (Conf: 0.88), PaddleOCR: 'RK3340' (Conf: 0.96)\n",
      "Frame 170: YOLO Plate (Conf: 0.90), PaddleOCR: 'RK3340' (Conf: 0.89)\n",
      "Frame 180: YOLO Plate (Conf: 0.87), PaddleOCR: 'QR3340' (Conf: 0.83)\n",
      "Frame 180: Found 2 'license_plate' instances by YOLOv8.\n",
      "Frame 190: YOLO Plate (Conf: 0.86), PaddleOCR: 'RK3340' (Conf: 0.93)\n",
      "Frame 200: YOLO Plate (Conf: 0.87), PaddleOCR: 'QRK3340' (Conf: 0.81)\n",
      "Frame 210: YOLO Plate (Conf: 0.90), PaddleOCR: 'OR3340' (Conf: 0.87)\n",
      "Frame 210: YOLO Plate (Conf: 0.82), PaddleOCR: 'E' (Conf: 0.21)\n",
      "Frame 210: Found 2 'license_plate' instances by YOLOv8.\n",
      "Frame 220: YOLO Plate (Conf: 0.87), PaddleOCR: 'RK3340' (Conf: 0.91)\n",
      "Frame 230: YOLO Plate (Conf: 0.88), PaddleOCR: 'QRK3340' (Conf: 0.85)\n",
      "Frame 240: YOLO Plate (Conf: 0.89), PaddleOCR: 'RK3340' (Conf: 0.95)\n",
      "Frame 240: Found 1 'license_plate' instances by YOLOv8.\n",
      "Frame 250: YOLO Plate (Conf: 0.88), PaddleOCR: 'QRK3340' (Conf: 0.86)\n",
      "Frame 260: YOLO Plate (Conf: 0.89), PaddleOCR: 'QAK3340' (Conf: 0.85)\n",
      "Frame 260: YOLO Plate (Conf: 0.80), PaddleOCR: 'K3444' (Conf: 0.78)\n",
      "Frame 270: YOLO Plate (Conf: 0.89), PaddleOCR: 'QRK3340' (Conf: 0.84)\n",
      "Frame 270: YOLO Plate (Conf: 0.86), PaddleOCR: '20780' (Conf: 0.40)\n",
      "Frame 270: Found 2 'license_plate' instances by YOLOv8.\n",
      "Frame 280: YOLO Plate (Conf: 0.88), PaddleOCR: 'QRK3340' (Conf: 0.98)\n",
      "Frame 280: YOLO Plate (Conf: 0.75), PaddleOCR: 'O4' (Conf: 0.51)\n",
      "Frame 290: YOLO Plate (Conf: 0.88), PaddleOCR: 'QRK3340' (Conf: 0.92)\n",
      "Frame 300: YOLO Plate (Conf: 0.87), PaddleOCR: 'QRK3340' (Conf: 0.97)\n",
      "Frame 300: Found 1 'license_plate' instances by YOLOv8.\n",
      "Frame 310: YOLO Plate (Conf: 0.84), PaddleOCR: 'ORK3340' (Conf: 0.96)\n",
      "Frame 320: YOLO Plate (Conf: 0.88), PaddleOCR: 'QRK3340' (Conf: 0.99)\n",
      "Frame 330: YOLO Plate (Conf: 0.85), PaddleOCR: 'QRK3340' (Conf: 0.99)\n",
      "Frame 330: Found 1 'license_plate' instances by YOLOv8.\n",
      "Frame 350: YOLO Plate (Conf: 0.88), PaddleOCR: 'QRK3340' (Conf: 0.99)\n",
      "Frame 360: YOLO Plate (Conf: 0.87), PaddleOCR: 'QRK3340' (Conf: 0.99)\n",
      "Frame 360: Found 1 'license_plate' instances by YOLOv8.\n",
      "Frame 370: YOLO Plate (Conf: 0.87), PaddleOCR: 'QRK3340' (Conf: 0.98)\n",
      "Frame 380: YOLO Plate (Conf: 0.87), PaddleOCR: 'QRK3340' (Conf: 0.99)\n",
      "Frame 390: YOLO Plate (Conf: 0.87), PaddleOCR: 'QRK3340' (Conf: 0.99)\n",
      "Frame 390: Found 1 'license_plate' instances by YOLOv8.\n",
      "Frame 400: YOLO Plate (Conf: 0.87), PaddleOCR: 'QRK3340' (Conf: 0.99)\n",
      "Frame 410: YOLO Plate (Conf: 0.87), PaddleOCR: 'QRK3340' (Conf: 0.99)\n",
      "Frame 420: YOLO Plate (Conf: 0.87), PaddleOCR: 'QRK3340' (Conf: 0.98)\n",
      "Frame 420: Found 1 'license_plate' instances by YOLOv8.\n",
      "Frame 430: YOLO Plate (Conf: 0.87), PaddleOCR: 'QRK3340' (Conf: 0.99)\n",
      "Frame 440: YOLO Plate (Conf: 0.87), PaddleOCR: 'QRK3340' (Conf: 0.99)\n",
      "Frame 440: YOLO Plate (Conf: 0.78), PaddleOCR: '0003455' (Conf: 0.70)\n",
      "Exiting...\n",
      "Video processing finished and resources released.\n"
     ]
    }
   ],
   "execution_count": 12
  }
 ],
 "metadata": {
  "kernelspec": {
   "display_name": "Python 3",
   "language": "python",
   "name": "python3"
  },
  "language_info": {
   "codemirror_mode": {
    "name": "ipython",
    "version": 2
   },
   "file_extension": ".py",
   "mimetype": "text/x-python",
   "name": "python",
   "nbconvert_exporter": "python",
   "pygments_lexer": "ipython2",
   "version": "2.7.6"
  }
 },
 "nbformat": 4,
 "nbformat_minor": 5
}
